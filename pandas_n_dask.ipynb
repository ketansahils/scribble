{
 "cells": [
  {
   "cell_type": "raw",
   "id": "4384b57c",
   "metadata": {},
   "source": [
    "'''\n",
    "pandas\n",
    "20mn rows:\n",
    "    read_csv: 8min\n",
    "    groupby: OOM\n",
    "5mn rows:\n",
    "    read_csv: 20s\n",
    "    groupby: 3min 11s\n",
    "    sort: 7.55 s\n",
    "\n",
    "dask\n",
    "5mn rows:\n",
    "    groupby and sort: 4min 34s\n",
    "\n",
    "================================\n",
    "\n",
    "pandas\n",
    "50 mn rows: 6gb data\n",
    "    read_csv: OOM\n",
    "    groupby: --\n",
    "\n",
    "dask\n",
    "5mn rows:\n",
    "    groupby and sort: 4min 34s\n",
    "'''"
   ]
  },
  {
   "cell_type": "code",
   "execution_count": 1,
   "id": "13ec1d5f",
   "metadata": {},
   "outputs": [],
   "source": [
    "%timeit\n",
    "import numpy as np\n",
    "import pandas as pd\n",
    "import dask.dataframe as dd\n",
    "import glob\n",
    "\n",
    "from functools import partial"
   ]
  },
  {
   "cell_type": "code",
   "execution_count": 2,
   "id": "3b2ec690",
   "metadata": {},
   "outputs": [],
   "source": [
    "headers = ['col_'+str(i) for i in range(1, 21)]"
   ]
  },
  {
   "cell_type": "code",
   "execution_count": 3,
   "id": "03248366",
   "metadata": {},
   "outputs": [],
   "source": [
    "csv_config = dict(delimiter=',', names=headers, usecols=headers[:3], quotechar='\"', escapechar='\\\\')"
   ]
  },
  {
   "cell_type": "markdown",
   "id": "f080830b",
   "metadata": {},
   "source": [
    "## Pandas"
   ]
  },
  {
   "cell_type": "code",
   "execution_count": null,
   "id": "c537a9e7",
   "metadata": {
    "scrolled": false
   },
   "outputs": [],
   "source": [
    "%%time\n",
    "df = pd.concat(map(partial(pd.read_csv, **csv_config), glob.glob('sample_1000/*.csv')))"
   ]
  },
  {
   "cell_type": "code",
   "execution_count": 5,
   "id": "0eaf49ca",
   "metadata": {},
   "outputs": [
    {
     "data": {
      "text/plain": [
       "(5000000, 3)"
      ]
     },
     "execution_count": 5,
     "metadata": {},
     "output_type": "execute_result"
    }
   ],
   "source": [
    "df.shape"
   ]
  },
  {
   "cell_type": "code",
   "execution_count": 6,
   "id": "e99a982d",
   "metadata": {},
   "outputs": [],
   "source": [
    "df.dropna(inplace=True)"
   ]
  },
  {
   "cell_type": "code",
   "execution_count": 7,
   "id": "42156844",
   "metadata": {},
   "outputs": [
    {
     "data": {
      "text/plain": [
       "(4839039, 3)"
      ]
     },
     "execution_count": 7,
     "metadata": {},
     "output_type": "execute_result"
    }
   ],
   "source": [
    "df.shape"
   ]
  },
  {
   "cell_type": "code",
   "execution_count": 8,
   "id": "753f2ad4",
   "metadata": {},
   "outputs": [
    {
     "name": "stderr",
     "output_type": "stream",
     "text": [
      "<timed exec>:1: FutureWarning: Indexing with multiple keys (implicitly converted to a tuple of keys) will be deprecated, use a list instead.\n"
     ]
    },
    {
     "name": "stdout",
     "output_type": "stream",
     "text": [
      "CPU times: user 3min 9s, sys: 2.03 s, total: 3min 11s\n",
      "Wall time: 3min 11s\n"
     ]
    }
   ],
   "source": [
    "%%time\n",
    "grouped = df.groupby('col_3')['col_1', 'col_2'].agg(set)\n",
    "# crashes with 19mn"
   ]
  },
  {
   "cell_type": "code",
   "execution_count": 10,
   "id": "ee3c15d4",
   "metadata": {},
   "outputs": [
    {
     "name": "stdout",
     "output_type": "stream",
     "text": [
      "CPU times: user 7.4 s, sys: 172 ms, total: 7.58 s\n",
      "Wall time: 7.55 s\n"
     ]
    }
   ],
   "source": [
    "%%time\n",
    "grouped = grouped.sort_values('col_3')"
   ]
  },
  {
   "cell_type": "code",
   "execution_count": 11,
   "id": "cf28d3dd",
   "metadata": {},
   "outputs": [
    {
     "data": {
      "text/html": [
       "<div>\n",
       "<style scoped>\n",
       "    .dataframe tbody tr th:only-of-type {\n",
       "        vertical-align: middle;\n",
       "    }\n",
       "\n",
       "    .dataframe tbody tr th {\n",
       "        vertical-align: top;\n",
       "    }\n",
       "\n",
       "    .dataframe thead th {\n",
       "        text-align: right;\n",
       "    }\n",
       "</style>\n",
       "<table border=\"1\" class=\"dataframe\">\n",
       "  <thead>\n",
       "    <tr style=\"text-align: right;\">\n",
       "      <th></th>\n",
       "      <th>col_1</th>\n",
       "      <th>col_2</th>\n",
       "    </tr>\n",
       "    <tr>\n",
       "      <th>col_3</th>\n",
       "      <th></th>\n",
       "      <th></th>\n",
       "    </tr>\n",
       "  </thead>\n",
       "  <tbody>\n",
       "    <tr>\n",
       "      <th>http://www..com</th>\n",
       "      <td>{1703936, 1966082, 1310725, 8, 2752521, 393228...</td>\n",
       "      <td>{cc577541954, 80485323e740ccc, d6a06c69ee92b, ...</td>\n",
       "    </tr>\n",
       "    <tr>\n",
       "      <th>http://www.0.com</th>\n",
       "      <td>{1417221, 737286, 1998858, 573454, 1851408, 28...</td>\n",
       "      <td>{e8b0c39f5e08ea2b97e9f83, 72440929acb610462121...</td>\n",
       "    </tr>\n",
       "    <tr>\n",
       "      <th>http://www.00.com</th>\n",
       "      <td>{1101830, 57353, 1654800, 606227, 610327, 2574...</td>\n",
       "      <td>{d30ac45e1e72c18f173b107b6d, 86ba10596cfa42d9c...</td>\n",
       "    </tr>\n",
       "    <tr>\n",
       "      <th>http://www.000.com</th>\n",
       "      <td>{2657856, 2576769, 990342, 1772040, 526985, 17...</td>\n",
       "      <td>{27c50abebbdddedc186, 413f48d22fde95200e41a, c...</td>\n",
       "    </tr>\n",
       "    <tr>\n",
       "      <th>http://www.0000.com</th>\n",
       "      <td>{2402429}</td>\n",
       "      <td>{648ca91dc6fa2}</td>\n",
       "    </tr>\n",
       "  </tbody>\n",
       "</table>\n",
       "</div>"
      ],
      "text/plain": [
       "                                                                 col_1  \\\n",
       "col_3                                                                    \n",
       "http://www..com      {1703936, 1966082, 1310725, 8, 2752521, 393228...   \n",
       "http://www.0.com     {1417221, 737286, 1998858, 573454, 1851408, 28...   \n",
       "http://www.00.com    {1101830, 57353, 1654800, 606227, 610327, 2574...   \n",
       "http://www.000.com   {2657856, 2576769, 990342, 1772040, 526985, 17...   \n",
       "http://www.0000.com                                          {2402429}   \n",
       "\n",
       "                                                                 col_2  \n",
       "col_3                                                                   \n",
       "http://www..com      {cc577541954, 80485323e740ccc, d6a06c69ee92b, ...  \n",
       "http://www.0.com     {e8b0c39f5e08ea2b97e9f83, 72440929acb610462121...  \n",
       "http://www.00.com    {d30ac45e1e72c18f173b107b6d, 86ba10596cfa42d9c...  \n",
       "http://www.000.com   {27c50abebbdddedc186, 413f48d22fde95200e41a, c...  \n",
       "http://www.0000.com                                    {648ca91dc6fa2}  "
      ]
     },
     "execution_count": 11,
     "metadata": {},
     "output_type": "execute_result"
    }
   ],
   "source": [
    "grouped.head()"
   ]
  },
  {
   "cell_type": "code",
   "execution_count": 9,
   "id": "1b5c08e8",
   "metadata": {},
   "outputs": [
    {
     "data": {
      "text/plain": [
       "(4509197, 2)"
      ]
     },
     "execution_count": 9,
     "metadata": {},
     "output_type": "execute_result"
    }
   ],
   "source": [
    "grouped.shape"
   ]
  },
  {
   "cell_type": "code",
   "execution_count": 12,
   "id": "28416000",
   "metadata": {},
   "outputs": [
    {
     "name": "stdout",
     "output_type": "stream",
     "text": [
      "CPU times: user 138 ms, sys: 16.1 ms, total: 154 ms\n",
      "Wall time: 154 ms\n"
     ]
    }
   ],
   "source": [
    "%%time\n",
    "grouped.reset_index(inplace=True)"
   ]
  },
  {
   "cell_type": "code",
   "execution_count": 13,
   "id": "068d6b42",
   "metadata": {},
   "outputs": [
    {
     "data": {
      "text/html": [
       "<div>\n",
       "<style scoped>\n",
       "    .dataframe tbody tr th:only-of-type {\n",
       "        vertical-align: middle;\n",
       "    }\n",
       "\n",
       "    .dataframe tbody tr th {\n",
       "        vertical-align: top;\n",
       "    }\n",
       "\n",
       "    .dataframe thead th {\n",
       "        text-align: right;\n",
       "    }\n",
       "</style>\n",
       "<table border=\"1\" class=\"dataframe\">\n",
       "  <thead>\n",
       "    <tr style=\"text-align: right;\">\n",
       "      <th></th>\n",
       "      <th>col_3</th>\n",
       "      <th>col_1</th>\n",
       "      <th>col_2</th>\n",
       "    </tr>\n",
       "  </thead>\n",
       "  <tbody>\n",
       "    <tr>\n",
       "      <th>0</th>\n",
       "      <td>http://www..com</td>\n",
       "      <td>{1703936, 1966082, 1310725, 8, 2752521, 393228...</td>\n",
       "      <td>{cc577541954, 80485323e740ccc, d6a06c69ee92b, ...</td>\n",
       "    </tr>\n",
       "    <tr>\n",
       "      <th>1</th>\n",
       "      <td>http://www.0.com</td>\n",
       "      <td>{1417221, 737286, 1998858, 573454, 1851408, 28...</td>\n",
       "      <td>{e8b0c39f5e08ea2b97e9f83, 72440929acb610462121...</td>\n",
       "    </tr>\n",
       "    <tr>\n",
       "      <th>2</th>\n",
       "      <td>http://www.00.com</td>\n",
       "      <td>{1101830, 57353, 1654800, 606227, 610327, 2574...</td>\n",
       "      <td>{d30ac45e1e72c18f173b107b6d, 86ba10596cfa42d9c...</td>\n",
       "    </tr>\n",
       "    <tr>\n",
       "      <th>3</th>\n",
       "      <td>http://www.000.com</td>\n",
       "      <td>{2657856, 2576769, 990342, 1772040, 526985, 17...</td>\n",
       "      <td>{27c50abebbdddedc186, 413f48d22fde95200e41a, c...</td>\n",
       "    </tr>\n",
       "    <tr>\n",
       "      <th>4</th>\n",
       "      <td>http://www.0000.com</td>\n",
       "      <td>{2402429}</td>\n",
       "      <td>{648ca91dc6fa2}</td>\n",
       "    </tr>\n",
       "  </tbody>\n",
       "</table>\n",
       "</div>"
      ],
      "text/plain": [
       "                 col_3                                              col_1  \\\n",
       "0      http://www..com  {1703936, 1966082, 1310725, 8, 2752521, 393228...   \n",
       "1     http://www.0.com  {1417221, 737286, 1998858, 573454, 1851408, 28...   \n",
       "2    http://www.00.com  {1101830, 57353, 1654800, 606227, 610327, 2574...   \n",
       "3   http://www.000.com  {2657856, 2576769, 990342, 1772040, 526985, 17...   \n",
       "4  http://www.0000.com                                          {2402429}   \n",
       "\n",
       "                                               col_2  \n",
       "0  {cc577541954, 80485323e740ccc, d6a06c69ee92b, ...  \n",
       "1  {e8b0c39f5e08ea2b97e9f83, 72440929acb610462121...  \n",
       "2  {d30ac45e1e72c18f173b107b6d, 86ba10596cfa42d9c...  \n",
       "3  {27c50abebbdddedc186, 413f48d22fde95200e41a, c...  \n",
       "4                                    {648ca91dc6fa2}  "
      ]
     },
     "execution_count": 13,
     "metadata": {},
     "output_type": "execute_result"
    }
   ],
   "source": [
    "grouped.head()"
   ]
  },
  {
   "cell_type": "code",
   "execution_count": 14,
   "id": "c1850f23",
   "metadata": {},
   "outputs": [
    {
     "data": {
      "text/plain": [
       "(4509197, 3)"
      ]
     },
     "execution_count": 14,
     "metadata": {},
     "output_type": "execute_result"
    }
   ],
   "source": [
    "grouped.shape"
   ]
  },
  {
   "cell_type": "markdown",
   "id": "5fe360bb",
   "metadata": {},
   "source": [
    "## Test example with 1 file"
   ]
  },
  {
   "cell_type": "code",
   "execution_count": null,
   "id": "4c0bd0f2",
   "metadata": {},
   "outputs": [],
   "source": [
    "sample = dd.read_csv('sample_400/file-0100.csv', **csv_config).dropna()\n",
    "collect_set = dd.Aggregation(\n",
    "    name=\"collect_set\",\n",
    "    chunk=lambda s: s.apply(lambda x: list(set(x))),\n",
    "    agg=lambda s: s.obj.groupby(level=0).sum(),\n",
    "    finalize=lambda s: s.apply(lambda final: set(final)),\n",
    ")\n",
    "dd_result = sample.groupby('col_3').agg({'col_1': collect_set, 'col_2': collect_set}).compute()"
   ]
  },
  {
   "cell_type": "code",
   "execution_count": null,
   "id": "8f2ac5f8",
   "metadata": {},
   "outputs": [],
   "source": [
    "sample = pd.read_csv('sample_400/file-0100.csv', **csv_config).dropna()"
   ]
  },
  {
   "cell_type": "code",
   "execution_count": null,
   "id": "55889834",
   "metadata": {},
   "outputs": [],
   "source": [
    "pd_result = sample.groupby('col_3').agg({'col_1': set, 'col_2': set})"
   ]
  },
  {
   "cell_type": "code",
   "execution_count": null,
   "id": "cbda93c3",
   "metadata": {},
   "outputs": [],
   "source": [
    "pd_result.shape"
   ]
  },
  {
   "cell_type": "code",
   "execution_count": null,
   "id": "a54c3161",
   "metadata": {},
   "outputs": [],
   "source": [
    "dd_result.shape"
   ]
  },
  {
   "cell_type": "code",
   "execution_count": null,
   "id": "47397820",
   "metadata": {},
   "outputs": [],
   "source": [
    "pd_result.equals(dd_result)"
   ]
  },
  {
   "cell_type": "markdown",
   "id": "0dddad6f",
   "metadata": {},
   "source": [
    "## Dask"
   ]
  },
  {
   "cell_type": "code",
   "execution_count": 5,
   "id": "37114c43",
   "metadata": {},
   "outputs": [],
   "source": [
    "sample_100 = dd.read_csv('sample_1000/*.csv', **csv_config).dropna()"
   ]
  },
  {
   "cell_type": "code",
   "execution_count": null,
   "id": "6384a2fe",
   "metadata": {},
   "outputs": [],
   "source": [
    "%%time\n",
    "sample_100 = sample_100.sort_values('col_3')"
   ]
  },
  {
   "cell_type": "code",
   "execution_count": 9,
   "id": "ac111c9b",
   "metadata": {
    "scrolled": true
   },
   "outputs": [
    {
     "name": "stdout",
     "output_type": "stream",
     "text": [
      "CPU times: user 56.9 ms, sys: 4.48 ms, total: 61.3 ms\n",
      "Wall time: 60.6 ms\n"
     ]
    }
   ],
   "source": [
    "%%time\n",
    "collect_set = dd.Aggregation(\n",
    "    name=\"collect_set\",\n",
    "    chunk=lambda s: s.apply(lambda x: list(set(x))),\n",
    "    agg=lambda s: s.obj.groupby(level=0).sum(),\n",
    "    finalize=lambda s: s.apply(lambda final: set(final)),\n",
    ")\n",
    "result = sample_100.groupby('col_3', sort=True).agg({'col_1':collect_set, 'col_2':collect_set})"
   ]
  },
  {
   "cell_type": "code",
   "execution_count": 10,
   "id": "bdfa9b84",
   "metadata": {
    "scrolled": true
   },
   "outputs": [
    {
     "name": "stdout",
     "output_type": "stream",
     "text": [
      "CPU times: user 4min 48s, sys: 7.83 s, total: 4min 55s\n",
      "Wall time: 4min 34s\n"
     ]
    }
   ],
   "source": [
    "%%time\n",
    "result = result.compute()"
   ]
  },
  {
   "cell_type": "code",
   "execution_count": 11,
   "id": "b095ff4a",
   "metadata": {},
   "outputs": [
    {
     "data": {
      "text/plain": [
       "(4509197, 2)"
      ]
     },
     "execution_count": 11,
     "metadata": {},
     "output_type": "execute_result"
    }
   ],
   "source": [
    "result.shape"
   ]
  },
  {
   "cell_type": "code",
   "execution_count": 12,
   "id": "c03062f1",
   "metadata": {},
   "outputs": [
    {
     "data": {
      "text/html": [
       "<div>\n",
       "<style scoped>\n",
       "    .dataframe tbody tr th:only-of-type {\n",
       "        vertical-align: middle;\n",
       "    }\n",
       "\n",
       "    .dataframe tbody tr th {\n",
       "        vertical-align: top;\n",
       "    }\n",
       "\n",
       "    .dataframe thead th {\n",
       "        text-align: right;\n",
       "    }\n",
       "</style>\n",
       "<table border=\"1\" class=\"dataframe\">\n",
       "  <thead>\n",
       "    <tr style=\"text-align: right;\">\n",
       "      <th></th>\n",
       "      <th>col_1</th>\n",
       "      <th>col_2</th>\n",
       "    </tr>\n",
       "    <tr>\n",
       "      <th>col_3</th>\n",
       "      <th></th>\n",
       "      <th></th>\n",
       "    </tr>\n",
       "  </thead>\n",
       "  <tbody>\n",
       "    <tr>\n",
       "      <th>http://www..com</th>\n",
       "      <td>{1703936, 1966082, 1310725, 8, 2752521, 393228...</td>\n",
       "      <td>{583ad8ab098842, 3e4, 66f9e22d81f34f108c5ad788...</td>\n",
       "    </tr>\n",
       "    <tr>\n",
       "      <th>http://www.0.com</th>\n",
       "      <td>{1417221, 737286, 1998858, 573454, 1851408, 28...</td>\n",
       "      <td>{e35, 20d4b11a6, 1d1963, 81265490de82eb0d50770...</td>\n",
       "    </tr>\n",
       "    <tr>\n",
       "      <th>http://www.00.com</th>\n",
       "      <td>{1101830, 57353, 1654800, 606227, 610327, 2574...</td>\n",
       "      <td>{85, ccd5cc79011c1db262, e4958fe70fc4e, d7c66e...</td>\n",
       "    </tr>\n",
       "    <tr>\n",
       "      <th>http://www.000.com</th>\n",
       "      <td>{2657856, 2576769, 990342, 1792104, 1772040, 5...</td>\n",
       "      <td>{332804b8ade6ea17986bad1f7, 5ce196ae19, 039acd...</td>\n",
       "    </tr>\n",
       "    <tr>\n",
       "      <th>http://www.0001.com</th>\n",
       "      <td>{1274699, 1892934, 938423}</td>\n",
       "      <td>{93f067721c8331f71dbd91d1f30f, 5, 9d53}</td>\n",
       "    </tr>\n",
       "  </tbody>\n",
       "</table>\n",
       "</div>"
      ],
      "text/plain": [
       "                                                                 col_1  \\\n",
       "col_3                                                                    \n",
       "http://www..com      {1703936, 1966082, 1310725, 8, 2752521, 393228...   \n",
       "http://www.0.com     {1417221, 737286, 1998858, 573454, 1851408, 28...   \n",
       "http://www.00.com    {1101830, 57353, 1654800, 606227, 610327, 2574...   \n",
       "http://www.000.com   {2657856, 2576769, 990342, 1792104, 1772040, 5...   \n",
       "http://www.0001.com                         {1274699, 1892934, 938423}   \n",
       "\n",
       "                                                                 col_2  \n",
       "col_3                                                                   \n",
       "http://www..com      {583ad8ab098842, 3e4, 66f9e22d81f34f108c5ad788...  \n",
       "http://www.0.com     {e35, 20d4b11a6, 1d1963, 81265490de82eb0d50770...  \n",
       "http://www.00.com    {85, ccd5cc79011c1db262, e4958fe70fc4e, d7c66e...  \n",
       "http://www.000.com   {332804b8ade6ea17986bad1f7, 5ce196ae19, 039acd...  \n",
       "http://www.0001.com            {93f067721c8331f71dbd91d1f30f, 5, 9d53}  "
      ]
     },
     "execution_count": 12,
     "metadata": {},
     "output_type": "execute_result"
    }
   ],
   "source": [
    "result[result.col_1.str.len() > 1].head()"
   ]
  },
  {
   "cell_type": "code",
   "execution_count": 13,
   "id": "009ad0ac",
   "metadata": {},
   "outputs": [
    {
     "name": "stdout",
     "output_type": "stream",
     "text": [
      "CPU times: user 87.7 ms, sys: 20.2 ms, total: 108 ms\n",
      "Wall time: 140 ms\n"
     ]
    }
   ],
   "source": [
    "%%time\n",
    "result.reset_index(inplace=True)"
   ]
  },
  {
   "cell_type": "code",
   "execution_count": 14,
   "id": "918a418e",
   "metadata": {},
   "outputs": [
    {
     "data": {
      "text/html": [
       "<div>\n",
       "<style scoped>\n",
       "    .dataframe tbody tr th:only-of-type {\n",
       "        vertical-align: middle;\n",
       "    }\n",
       "\n",
       "    .dataframe tbody tr th {\n",
       "        vertical-align: top;\n",
       "    }\n",
       "\n",
       "    .dataframe thead th {\n",
       "        text-align: right;\n",
       "    }\n",
       "</style>\n",
       "<table border=\"1\" class=\"dataframe\">\n",
       "  <thead>\n",
       "    <tr style=\"text-align: right;\">\n",
       "      <th></th>\n",
       "      <th>col_3</th>\n",
       "      <th>col_1</th>\n",
       "      <th>col_2</th>\n",
       "    </tr>\n",
       "  </thead>\n",
       "  <tbody>\n",
       "    <tr>\n",
       "      <th>0</th>\n",
       "      <td>http://www..com</td>\n",
       "      <td>{1703936, 1966082, 1310725, 8, 2752521, 393228...</td>\n",
       "      <td>{583ad8ab098842, 3e4, 66f9e22d81f34f108c5ad788...</td>\n",
       "    </tr>\n",
       "    <tr>\n",
       "      <th>1</th>\n",
       "      <td>http://www.0.com</td>\n",
       "      <td>{1417221, 737286, 1998858, 573454, 1851408, 28...</td>\n",
       "      <td>{e35, 20d4b11a6, 1d1963, 81265490de82eb0d50770...</td>\n",
       "    </tr>\n",
       "    <tr>\n",
       "      <th>2</th>\n",
       "      <td>http://www.00.com</td>\n",
       "      <td>{1101830, 57353, 1654800, 606227, 610327, 2574...</td>\n",
       "      <td>{85, ccd5cc79011c1db262, e4958fe70fc4e, d7c66e...</td>\n",
       "    </tr>\n",
       "    <tr>\n",
       "      <th>3</th>\n",
       "      <td>http://www.000.com</td>\n",
       "      <td>{2657856, 2576769, 990342, 1792104, 1772040, 5...</td>\n",
       "      <td>{332804b8ade6ea17986bad1f7, 5ce196ae19, 039acd...</td>\n",
       "    </tr>\n",
       "    <tr>\n",
       "      <th>4</th>\n",
       "      <td>http://www.0000.com</td>\n",
       "      <td>{2402429}</td>\n",
       "      <td>{648ca91dc6fa2}</td>\n",
       "    </tr>\n",
       "  </tbody>\n",
       "</table>\n",
       "</div>"
      ],
      "text/plain": [
       "                 col_3                                              col_1  \\\n",
       "0      http://www..com  {1703936, 1966082, 1310725, 8, 2752521, 393228...   \n",
       "1     http://www.0.com  {1417221, 737286, 1998858, 573454, 1851408, 28...   \n",
       "2    http://www.00.com  {1101830, 57353, 1654800, 606227, 610327, 2574...   \n",
       "3   http://www.000.com  {2657856, 2576769, 990342, 1792104, 1772040, 5...   \n",
       "4  http://www.0000.com                                          {2402429}   \n",
       "\n",
       "                                               col_2  \n",
       "0  {583ad8ab098842, 3e4, 66f9e22d81f34f108c5ad788...  \n",
       "1  {e35, 20d4b11a6, 1d1963, 81265490de82eb0d50770...  \n",
       "2  {85, ccd5cc79011c1db262, e4958fe70fc4e, d7c66e...  \n",
       "3  {332804b8ade6ea17986bad1f7, 5ce196ae19, 039acd...  \n",
       "4                                    {648ca91dc6fa2}  "
      ]
     },
     "execution_count": 14,
     "metadata": {},
     "output_type": "execute_result"
    }
   ],
   "source": [
    "result.head()"
   ]
  },
  {
   "cell_type": "code",
   "execution_count": null,
   "id": "1a86655d",
   "metadata": {},
   "outputs": [],
   "source": []
  },
  {
   "cell_type": "code",
   "execution_count": null,
   "id": "7713f448",
   "metadata": {},
   "outputs": [],
   "source": []
  },
  {
   "cell_type": "code",
   "execution_count": null,
   "id": "5633a2ca",
   "metadata": {},
   "outputs": [],
   "source": []
  },
  {
   "cell_type": "code",
   "execution_count": null,
   "id": "359850d9",
   "metadata": {},
   "outputs": [],
   "source": []
  },
  {
   "cell_type": "code",
   "execution_count": null,
   "id": "56fc6f74",
   "metadata": {},
   "outputs": [],
   "source": []
  },
  {
   "cell_type": "code",
   "execution_count": null,
   "id": "eadf9a74",
   "metadata": {},
   "outputs": [],
   "source": []
  },
  {
   "cell_type": "code",
   "execution_count": 5,
   "id": "677ecb36",
   "metadata": {},
   "outputs": [],
   "source": [
    "import shutil"
   ]
  },
  {
   "cell_type": "code",
   "execution_count": 10,
   "id": "3fab201d",
   "metadata": {},
   "outputs": [
    {
     "name": "stdout",
     "output_type": "stream",
     "text": [
      "0\n",
      "100\n",
      "200\n",
      "300\n",
      "400\n",
      "500\n",
      "600\n",
      "700\n",
      "800\n",
      "900\n",
      "done..\n"
     ]
    }
   ],
   "source": [
    "for i in range(1000):\n",
    "    shutil.copy('../data/file-%04d.csv' % i, 'sample_1000/')\n",
    "    if i % 100 == 0: print(i)\n",
    "print('done..')"
   ]
  },
  {
   "cell_type": "code",
   "execution_count": null,
   "id": "e5f1bf74",
   "metadata": {},
   "outputs": [],
   "source": []
  }
 ],
 "metadata": {
  "kernelspec": {
   "display_name": "Python 3 (ipykernel)",
   "language": "python",
   "name": "python3"
  },
  "language_info": {
   "codemirror_mode": {
    "name": "ipython",
    "version": 3
   },
   "file_extension": ".py",
   "mimetype": "text/x-python",
   "name": "python",
   "nbconvert_exporter": "python",
   "pygments_lexer": "ipython3",
   "version": "3.10.6"
  }
 },
 "nbformat": 4,
 "nbformat_minor": 5
}
